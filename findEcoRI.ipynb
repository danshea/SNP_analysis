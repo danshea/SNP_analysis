{
 "cells": [
  {
   "cell_type": "markdown",
   "metadata": {},
   "source": [
    "* Dan Shea\n",
    "* 2017.04.15\n",
    "* Find all of the EcoRI restriction sites in _B. rapa_ genome\n",
    "* EcoRI cuts G/AATTC and is palindromic CTTAA/G so if we find all GAATTC and all CTTAAG on the forward strand, we can output the coordinates to a tab-delimited file for later use."
   ]
  },
  {
   "cell_type": "code",
   "execution_count": 1,
   "metadata": {
    "collapsed": true
   },
   "outputs": [],
   "source": [
    "from Bio import SeqIO"
   ]
  },
  {
   "cell_type": "code",
   "execution_count": 2,
   "metadata": {
    "collapsed": true
   },
   "outputs": [],
   "source": [
    "import re"
   ]
  },
  {
   "cell_type": "code",
   "execution_count": 3,
   "metadata": {
    "collapsed": true
   },
   "outputs": [],
   "source": [
    "genome='../Brapa_sequence_v1.5.fa'"
   ]
  },
  {
   "cell_type": "code",
   "execution_count": 4,
   "metadata": {
    "collapsed": true
   },
   "outputs": [],
   "source": [
    "seqio = SeqIO.parse(genome, 'fasta')"
   ]
  },
  {
   "cell_type": "code",
   "execution_count": 5,
   "metadata": {
    "collapsed": true
   },
   "outputs": [],
   "source": [
    "# Store restriction sites in a dictionary\n",
    "sites = {chromosome: list() for chromosome in ['A01','A02','A03','A04','A05','A06','A07','A08','A09','A10',]}"
   ]
  },
  {
   "cell_type": "code",
   "execution_count": 6,
   "metadata": {
    "collapsed": false
   },
   "outputs": [],
   "source": [
    "pattern1='GAATTC'\n",
    "pattern2='CTTAAG'\n",
    "for seq in seqio:\n",
    "    sites[seq.id] = [(m.start()+1, m.end()) for m in re.finditer(pattern1, str(seq.seq))]\n",
    "    sites[seq.id] = [(m.start()+1, m.end()) for m in re.finditer(pattern2, str(seq.seq))]"
   ]
  },
  {
   "cell_type": "code",
   "execution_count": 7,
   "metadata": {
    "collapsed": false
   },
   "outputs": [
    {
     "name": "stdout",
     "output_type": "stream",
     "text": [
      "Found 5574 sites in A01\n",
      "Found 5765 sites in A02\n",
      "Found 6521 sites in A03\n",
      "Found 4036 sites in A04\n",
      "Found 5446 sites in A05\n",
      "Found 5384 sites in A06\n",
      "Found 5583 sites in A07\n",
      "Found 4478 sites in A08\n",
      "Found 8276 sites in A09\n",
      "Found 3327 sites in A10\n"
     ]
    }
   ],
   "source": [
    "for chromosome in sites:\n",
    "    print('Found {} sites in {}'.format(len(sites[chromosome]),chromosome))"
   ]
  },
  {
   "cell_type": "code",
   "execution_count": 8,
   "metadata": {
    "collapsed": false
   },
   "outputs": [],
   "source": [
    "# Save the corrdinates to a file (we already converted them to 1-base earlier)\n",
    "with open('Brapa_EcoRI_sites.tsv', 'w') as fh:\n",
    "    for chromosome in sites:\n",
    "        for (start, end) in sites[chromosome]:\n",
    "            fh.write('{}\\n'.format('\\t'.join([chromosome, str(start), str(end)])))"
   ]
  },
  {
   "cell_type": "code",
   "execution_count": null,
   "metadata": {
    "collapsed": true
   },
   "outputs": [],
   "source": []
  }
 ],
 "metadata": {
  "kernelspec": {
   "display_name": "Python 3",
   "language": "python",
   "name": "python3"
  },
  "language_info": {
   "codemirror_mode": {
    "name": "ipython",
    "version": 3
   },
   "file_extension": ".py",
   "mimetype": "text/x-python",
   "name": "python",
   "nbconvert_exporter": "python",
   "pygments_lexer": "ipython3",
   "version": "3.6.0"
  }
 },
 "nbformat": 4,
 "nbformat_minor": 2
}
