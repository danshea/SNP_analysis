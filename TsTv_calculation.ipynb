{
 "cells": [
  {
   "cell_type": "code",
   "execution_count": 1,
   "metadata": {
    "collapsed": true
   },
   "outputs": [],
   "source": [
    "# For parsing VCF file\n",
    "import vcf"
   ]
  },
  {
   "cell_type": "code",
   "execution_count": 2,
   "metadata": {
    "collapsed": true
   },
   "outputs": [],
   "source": [
    "Chromosomes = ['A01','A02','A03','A04','A05','A06','A07','A08','A09','A10',]"
   ]
  },
  {
   "cell_type": "code",
   "execution_count": 3,
   "metadata": {
    "collapsed": true
   },
   "outputs": [],
   "source": [
    "# Open a VCF Reader to parse the file\n",
    "R09vcf = vcf.Reader(filename='R09-homozygous-variants.snpeff.vcf.gz')"
   ]
  },
  {
   "cell_type": "code",
   "execution_count": 4,
   "metadata": {
    "collapsed": false
   },
   "outputs": [],
   "source": [
    "# get the sample name\n",
    "sample = R09vcf.samples[0]"
   ]
  },
  {
   "cell_type": "code",
   "execution_count": 10,
   "metadata": {
    "collapsed": true
   },
   "outputs": [],
   "source": [
    "# The per-chromosome Ts and Tv counts\n",
    "R09_SNPs = {CHROM: {'Ts': 0, 'Tv': 0, 'A/G': 0, 'G/A': 0, 'C/T': 0, 'T/C': 0,\n",
    "                    'A/C': 0, 'A/T': 0, 'G/C': 0, 'G/T': 0, 'C/A': 0, 'C/G': 0, 'T/A':0, 'T/G': 0} for CHROM in Chromosomes}\n",
    "# The genome-wide Ts and Tv counts\n",
    "R09_SNPs_Total = {'Ts': 0, 'Tv': 0, 'A/G': 0, 'G/A': 0, 'C/T': 0, 'T/C': 0,\n",
    "                  'A/C': 0, 'A/T': 0, 'G/C': 0, 'G/T': 0, 'C/A': 0, 'C/G': 0, 'T/A':0, 'T/G': 0}"
   ]
  },
  {
   "cell_type": "code",
   "execution_count": 11,
   "metadata": {
    "collapsed": false
   },
   "outputs": [],
   "source": [
    "# Calculate from SNPs the Ts and Tv of a Chromosome\n",
    "for CHROM in Chromosomes:\n",
    "    CHROMvcf = R09vcf.fetch(CHROM, 0)\n",
    "    for record in CHROMvcf:\n",
    "        if record.is_snp:\n",
    "            \n",
    "            # Get the reference nt\n",
    "            ref = record.alleles[0]\n",
    "            # Get the called nts\n",
    "            mat, pat = record.genotype(sample).gt_bases.split('/') # data is un-phased so separator will always be '/'\n",
    "            \n",
    "            # Note: all calls are homozygous in these files,\n",
    "            # so we only need to use either mat or pat call for counting\n",
    "            if record.is_transition:\n",
    "                R09_SNPs[CHROM]['Ts'] += 1\n",
    "                R09_SNPs_Total['Ts'] += 1\n",
    "            else:\n",
    "                R09_SNPs[CHROM]['Tv'] += 1\n",
    "                R09_SNPs_Total['Tv'] += 1\n",
    "            \n",
    "            # Now add count for specific substitution\n",
    "            R09_SNPs[CHROM]['/'.join([ref, mat])] += 1\n",
    "            R09_SNPs_Total['/'.join([ref, mat])] += 1"
   ]
  },
  {
   "cell_type": "code",
   "execution_count": 12,
   "metadata": {
    "collapsed": false
   },
   "outputs": [
    {
     "data": {
      "text/plain": [
       "{'A01': {'A/C': 5336,\n",
       "  'A/G': 12652,\n",
       "  'A/T': 6487,\n",
       "  'C/A': 5422,\n",
       "  'C/G': 3186,\n",
       "  'C/T': 13027,\n",
       "  'G/A': 13038,\n",
       "  'G/C': 3193,\n",
       "  'G/T': 5265,\n",
       "  'T/A': 6585,\n",
       "  'T/C': 12641,\n",
       "  'T/G': 5164,\n",
       "  'Ts': 51212,\n",
       "  'Tv': 40784},\n",
       " 'A02': {'A/C': 3629,\n",
       "  'A/G': 8456,\n",
       "  'A/T': 4585,\n",
       "  'C/A': 3681,\n",
       "  'C/G': 2003,\n",
       "  'C/T': 8910,\n",
       "  'G/A': 8859,\n",
       "  'G/C': 2115,\n",
       "  'G/T': 3687,\n",
       "  'T/A': 4467,\n",
       "  'T/C': 8493,\n",
       "  'T/G': 3561,\n",
       "  'Ts': 34605,\n",
       "  'Tv': 27841},\n",
       " 'A03': {'A/C': 5572,\n",
       "  'A/G': 13897,\n",
       "  'A/T': 7302,\n",
       "  'C/A': 5812,\n",
       "  'C/G': 3647,\n",
       "  'C/T': 14114,\n",
       "  'G/A': 14034,\n",
       "  'G/C': 3636,\n",
       "  'G/T': 5763,\n",
       "  'T/A': 7216,\n",
       "  'T/C': 13722,\n",
       "  'T/G': 5549,\n",
       "  'Ts': 55674,\n",
       "  'Tv': 44590},\n",
       " 'A04': {'A/C': 3907,\n",
       "  'A/G': 10056,\n",
       "  'A/T': 5239,\n",
       "  'C/A': 3998,\n",
       "  'C/G': 2463,\n",
       "  'C/T': 9901,\n",
       "  'G/A': 10150,\n",
       "  'G/C': 2432,\n",
       "  'G/T': 4008,\n",
       "  'T/A': 5247,\n",
       "  'T/C': 9875,\n",
       "  'T/G': 3935,\n",
       "  'Ts': 39901,\n",
       "  'Tv': 31310},\n",
       " 'A05': {'A/C': 4655,\n",
       "  'A/G': 11124,\n",
       "  'A/T': 5833,\n",
       "  'C/A': 4825,\n",
       "  'C/G': 2867,\n",
       "  'C/T': 11361,\n",
       "  'G/A': 11439,\n",
       "  'G/C': 2883,\n",
       "  'G/T': 4802,\n",
       "  'T/A': 5784,\n",
       "  'T/C': 11108,\n",
       "  'T/G': 4548,\n",
       "  'Ts': 44923,\n",
       "  'Tv': 36306},\n",
       " 'A06': {'A/C': 6301,\n",
       "  'A/G': 15909,\n",
       "  'A/T': 8254,\n",
       "  'C/A': 6362,\n",
       "  'C/G': 4169,\n",
       "  'C/T': 16458,\n",
       "  'G/A': 16332,\n",
       "  'G/C': 4100,\n",
       "  'G/T': 6435,\n",
       "  'T/A': 8149,\n",
       "  'T/C': 15672,\n",
       "  'T/G': 6160,\n",
       "  'Ts': 64250,\n",
       "  'Tv': 50051},\n",
       " 'A07': {'A/C': 6040,\n",
       "  'A/G': 15208,\n",
       "  'A/T': 7639,\n",
       "  'C/A': 6222,\n",
       "  'C/G': 3840,\n",
       "  'C/T': 15379,\n",
       "  'G/A': 15148,\n",
       "  'G/C': 3898,\n",
       "  'G/T': 6045,\n",
       "  'T/A': 7769,\n",
       "  'T/C': 15414,\n",
       "  'T/G': 6177,\n",
       "  'Ts': 60999,\n",
       "  'Tv': 47780},\n",
       " 'A08': {'A/C': 6407,\n",
       "  'A/G': 16795,\n",
       "  'A/T': 8286,\n",
       "  'C/A': 6391,\n",
       "  'C/G': 3995,\n",
       "  'C/T': 16523,\n",
       "  'G/A': 16506,\n",
       "  'G/C': 4026,\n",
       "  'G/T': 6388,\n",
       "  'T/A': 8122,\n",
       "  'T/C': 16174,\n",
       "  'T/G': 6516,\n",
       "  'Ts': 65864,\n",
       "  'Tv': 50265},\n",
       " 'A09': {'A/C': 6492,\n",
       "  'A/G': 15514,\n",
       "  'A/T': 7997,\n",
       "  'C/A': 6536,\n",
       "  'C/G': 3967,\n",
       "  'C/T': 15798,\n",
       "  'G/A': 15956,\n",
       "  'G/C': 3822,\n",
       "  'G/T': 6500,\n",
       "  'T/A': 8034,\n",
       "  'T/C': 15593,\n",
       "  'T/G': 6400,\n",
       "  'Ts': 62699,\n",
       "  'Tv': 49910},\n",
       " 'A10': {'A/C': 3394,\n",
       "  'A/G': 8217,\n",
       "  'A/T': 4088,\n",
       "  'C/A': 3311,\n",
       "  'C/G': 2157,\n",
       "  'C/T': 8142,\n",
       "  'G/A': 8418,\n",
       "  'G/C': 2152,\n",
       "  'G/T': 3351,\n",
       "  'T/A': 4119,\n",
       "  'T/C': 8238,\n",
       "  'T/G': 3413,\n",
       "  'Ts': 32940,\n",
       "  'Tv': 26060}}"
      ]
     },
     "execution_count": 12,
     "metadata": {},
     "output_type": "execute_result"
    }
   ],
   "source": [
    "R09_SNPs"
   ]
  },
  {
   "cell_type": "code",
   "execution_count": 13,
   "metadata": {
    "collapsed": false
   },
   "outputs": [
    {
     "data": {
      "text/plain": [
       "{'A/C': 51733,\n",
       " 'A/G': 127828,\n",
       " 'A/T': 65710,\n",
       " 'C/A': 52560,\n",
       " 'C/G': 32294,\n",
       " 'C/T': 129613,\n",
       " 'G/A': 129880,\n",
       " 'G/C': 32257,\n",
       " 'G/T': 52244,\n",
       " 'T/A': 65492,\n",
       " 'T/C': 126930,\n",
       " 'T/G': 51423,\n",
       " 'Ts': 513067,\n",
       " 'Tv': 404897}"
      ]
     },
     "execution_count": 13,
     "metadata": {},
     "output_type": "execute_result"
    }
   ],
   "source": [
    "R09_SNPs_Total"
   ]
  },
  {
   "cell_type": "code",
   "execution_count": 15,
   "metadata": {
    "collapsed": false
   },
   "outputs": [
    {
     "data": {
      "text/plain": [
       "1.2671543627144681"
      ]
     },
     "execution_count": 15,
     "metadata": {},
     "output_type": "execute_result"
    }
   ],
   "source": [
    "513067/404897.0"
   ]
  },
  {
   "cell_type": "code",
   "execution_count": 16,
   "metadata": {
    "collapsed": false
   },
   "outputs": [
    {
     "data": {
      "text/plain": [
       "917964"
      ]
     },
     "execution_count": 16,
     "metadata": {},
     "output_type": "execute_result"
    }
   ],
   "source": [
    "513067+404897"
   ]
  },
  {
   "cell_type": "code",
   "execution_count": 17,
   "metadata": {
    "collapsed": true
   },
   "outputs": [],
   "source": [
    "# Open a VCF Reader to parse the file\n",
    "S11vcf = vcf.Reader(filename='S11-homozygous-variants.snpeff.vcf.gz')"
   ]
  },
  {
   "cell_type": "code",
   "execution_count": 18,
   "metadata": {
    "collapsed": true
   },
   "outputs": [],
   "source": [
    "# get the sample name\n",
    "sample = S11vcf.samples[0]"
   ]
  },
  {
   "cell_type": "code",
   "execution_count": 19,
   "metadata": {
    "collapsed": true
   },
   "outputs": [],
   "source": [
    "# The per-chromosome Ts and Tv counts\n",
    "S11_SNPs = {CHROM: {'Ts': 0, 'Tv': 0, 'A/G': 0, 'G/A': 0, 'C/T': 0, 'T/C': 0,\n",
    "                    'A/C': 0, 'A/T': 0, 'G/C': 0, 'G/T': 0, 'C/A': 0, 'C/G': 0, 'T/A':0, 'T/G': 0} for CHROM in Chromosomes}\n",
    "# The genome-wide Ts and Tv counts\n",
    "S11_SNPs_Total = {'Ts': 0, 'Tv': 0, 'A/G': 0, 'G/A': 0, 'C/T': 0, 'T/C': 0,\n",
    "                  'A/C': 0, 'A/T': 0, 'G/C': 0, 'G/T': 0, 'C/A': 0, 'C/G': 0, 'T/A':0, 'T/G': 0}"
   ]
  },
  {
   "cell_type": "code",
   "execution_count": 20,
   "metadata": {
    "collapsed": true
   },
   "outputs": [],
   "source": [
    "# Calculate from SNPs the Ts and Tv of a Chromosome\n",
    "for CHROM in Chromosomes:\n",
    "    CHROMvcf = S11vcf.fetch(CHROM, 0)\n",
    "    for record in CHROMvcf:\n",
    "        if record.is_snp:\n",
    "            \n",
    "            # Get the reference nt\n",
    "            ref = record.alleles[0]\n",
    "            # Get the called nts\n",
    "            mat, pat = record.genotype(sample).gt_bases.split('/') # data is un-phased so separator will always be '/'\n",
    "            \n",
    "            # Note: all calls are homozygous in these files,\n",
    "            # so we only need to use either mat or pat call for counting\n",
    "            if record.is_transition:\n",
    "                S11_SNPs[CHROM]['Ts'] += 1\n",
    "                S11_SNPs_Total['Ts'] += 1\n",
    "            else:\n",
    "                S11_SNPs[CHROM]['Tv'] += 1\n",
    "                S11_SNPs_Total['Tv'] += 1\n",
    "            \n",
    "            # Now add count for specific substitution\n",
    "            S11_SNPs[CHROM]['/'.join([ref, mat])] += 1\n",
    "            S11_SNPs_Total['/'.join([ref, mat])] += 1"
   ]
  },
  {
   "cell_type": "code",
   "execution_count": 21,
   "metadata": {
    "collapsed": false
   },
   "outputs": [
    {
     "data": {
      "text/plain": [
       "{'A01': {'A/C': 4522,\n",
       "  'A/G': 10602,\n",
       "  'A/T': 5506,\n",
       "  'C/A': 4560,\n",
       "  'C/G': 2696,\n",
       "  'C/T': 11108,\n",
       "  'G/A': 11047,\n",
       "  'G/C': 2658,\n",
       "  'G/T': 4614,\n",
       "  'T/A': 5573,\n",
       "  'T/C': 10791,\n",
       "  'T/G': 4604,\n",
       "  'Ts': 43427,\n",
       "  'Tv': 34854},\n",
       " 'A02': {'A/C': 4845,\n",
       "  'A/G': 12010,\n",
       "  'A/T': 6254,\n",
       "  'C/A': 4973,\n",
       "  'C/G': 2884,\n",
       "  'C/T': 12633,\n",
       "  'G/A': 12542,\n",
       "  'G/C': 3116,\n",
       "  'G/T': 4943,\n",
       "  'T/A': 6219,\n",
       "  'T/C': 12359,\n",
       "  'T/G': 4926,\n",
       "  'Ts': 49424,\n",
       "  'Tv': 38280},\n",
       " 'A03': {'A/C': 5746,\n",
       "  'A/G': 14306,\n",
       "  'A/T': 7429,\n",
       "  'C/A': 5938,\n",
       "  'C/G': 3719,\n",
       "  'C/T': 14442,\n",
       "  'G/A': 14344,\n",
       "  'G/C': 3736,\n",
       "  'G/T': 5739,\n",
       "  'T/A': 7471,\n",
       "  'T/C': 14150,\n",
       "  'T/G': 5700,\n",
       "  'Ts': 57144,\n",
       "  'Tv': 45576},\n",
       " 'A04': {'A/C': 5090,\n",
       "  'A/G': 13047,\n",
       "  'A/T': 6629,\n",
       "  'C/A': 5136,\n",
       "  'C/G': 3085,\n",
       "  'C/T': 12966,\n",
       "  'G/A': 12777,\n",
       "  'G/C': 3076,\n",
       "  'G/T': 5018,\n",
       "  'T/A': 6580,\n",
       "  'T/C': 12756,\n",
       "  'T/G': 5040,\n",
       "  'Ts': 51430,\n",
       "  'Tv': 39770},\n",
       " 'A05': {'A/C': 5615,\n",
       "  'A/G': 13966,\n",
       "  'A/T': 7022,\n",
       "  'C/A': 5504,\n",
       "  'C/G': 3353,\n",
       "  'C/T': 13771,\n",
       "  'G/A': 13801,\n",
       "  'G/C': 3431,\n",
       "  'G/T': 5680,\n",
       "  'T/A': 6949,\n",
       "  'T/C': 13704,\n",
       "  'T/G': 5648,\n",
       "  'Ts': 55108,\n",
       "  'Tv': 43336},\n",
       " 'A06': {'A/C': 5732,\n",
       "  'A/G': 14214,\n",
       "  'A/T': 7162,\n",
       "  'C/A': 5650,\n",
       "  'C/G': 3561,\n",
       "  'C/T': 14382,\n",
       "  'G/A': 14345,\n",
       "  'G/C': 3562,\n",
       "  'G/T': 5707,\n",
       "  'T/A': 7131,\n",
       "  'T/C': 14275,\n",
       "  'T/G': 5571,\n",
       "  'Ts': 57090,\n",
       "  'Tv': 44202},\n",
       " 'A07': {'A/C': 5421,\n",
       "  'A/G': 13521,\n",
       "  'A/T': 6876,\n",
       "  'C/A': 5534,\n",
       "  'C/G': 3431,\n",
       "  'C/T': 13744,\n",
       "  'G/A': 13647,\n",
       "  'G/C': 3446,\n",
       "  'G/T': 5426,\n",
       "  'T/A': 7024,\n",
       "  'T/C': 13497,\n",
       "  'T/G': 5472,\n",
       "  'Ts': 54301,\n",
       "  'Tv': 42738},\n",
       " 'A08': {'A/C': 4540,\n",
       "  'A/G': 11354,\n",
       "  'A/T': 5702,\n",
       "  'C/A': 4651,\n",
       "  'C/G': 2787,\n",
       "  'C/T': 11263,\n",
       "  'G/A': 11246,\n",
       "  'G/C': 2776,\n",
       "  'G/T': 4538,\n",
       "  'T/A': 5496,\n",
       "  'T/C': 11101,\n",
       "  'T/G': 4566,\n",
       "  'Ts': 44859,\n",
       "  'Tv': 35161},\n",
       " 'A09': {'A/C': 7342,\n",
       "  'A/G': 18457,\n",
       "  'A/T': 9169,\n",
       "  'C/A': 7514,\n",
       "  'C/G': 4609,\n",
       "  'C/T': 18561,\n",
       "  'G/A': 18889,\n",
       "  'G/C': 4602,\n",
       "  'G/T': 7481,\n",
       "  'T/A': 9361,\n",
       "  'T/C': 18140,\n",
       "  'T/G': 7562,\n",
       "  'Ts': 73836,\n",
       "  'Tv': 57851},\n",
       " 'A10': {'A/C': 3467,\n",
       "  'A/G': 8523,\n",
       "  'A/T': 4278,\n",
       "  'C/A': 3438,\n",
       "  'C/G': 2317,\n",
       "  'C/T': 8616,\n",
       "  'G/A': 8629,\n",
       "  'G/C': 2229,\n",
       "  'G/T': 3424,\n",
       "  'T/A': 4272,\n",
       "  'T/C': 8617,\n",
       "  'T/G': 3509,\n",
       "  'Ts': 34316,\n",
       "  'Tv': 27003}}"
      ]
     },
     "execution_count": 21,
     "metadata": {},
     "output_type": "execute_result"
    }
   ],
   "source": [
    "S11_SNPs"
   ]
  },
  {
   "cell_type": "code",
   "execution_count": 22,
   "metadata": {
    "collapsed": false
   },
   "outputs": [
    {
     "data": {
      "text/plain": [
       "{'A/C': 52320,\n",
       " 'A/G': 130000,\n",
       " 'A/T': 66027,\n",
       " 'C/A': 52898,\n",
       " 'C/G': 32442,\n",
       " 'C/T': 131486,\n",
       " 'G/A': 131267,\n",
       " 'G/C': 32632,\n",
       " 'G/T': 52570,\n",
       " 'T/A': 66076,\n",
       " 'T/C': 129390,\n",
       " 'T/G': 52598,\n",
       " 'Ts': 520935,\n",
       " 'Tv': 408771}"
      ]
     },
     "execution_count": 22,
     "metadata": {},
     "output_type": "execute_result"
    }
   ],
   "source": [
    "S11_SNPs_Total"
   ]
  },
  {
   "cell_type": "code",
   "execution_count": 23,
   "metadata": {
    "collapsed": false
   },
   "outputs": [
    {
     "data": {
      "text/plain": [
       "1.274393242182053"
      ]
     },
     "execution_count": 23,
     "metadata": {},
     "output_type": "execute_result"
    }
   ],
   "source": [
    "520935/408771.0"
   ]
  },
  {
   "cell_type": "code",
   "execution_count": 24,
   "metadata": {
    "collapsed": false
   },
   "outputs": [
    {
     "data": {
      "text/plain": [
       "929706"
      ]
     },
     "execution_count": 24,
     "metadata": {},
     "output_type": "execute_result"
    }
   ],
   "source": [
    "520935+408771"
   ]
  },
  {
   "cell_type": "markdown",
   "metadata": {},
   "source": [
    "Now we will perform calculations on the unique data sets"
   ]
  },
  {
   "cell_type": "code",
   "execution_count": 3,
   "metadata": {
    "collapsed": true
   },
   "outputs": [],
   "source": [
    "# Open a VCF Reader to parse the file\n",
    "S11vcf = vcf.Reader(filename='S11-homozygous-variants.snpeff.unique.vcf.gz')"
   ]
  },
  {
   "cell_type": "code",
   "execution_count": 4,
   "metadata": {
    "collapsed": true
   },
   "outputs": [],
   "source": [
    "# get the sample name\n",
    "sample = S11vcf.samples[0]"
   ]
  },
  {
   "cell_type": "code",
   "execution_count": 5,
   "metadata": {
    "collapsed": true
   },
   "outputs": [],
   "source": [
    "# The per-chromosome Ts and Tv counts\n",
    "S11_SNPs = {CHROM: {'Ts': 0, 'Tv': 0, 'A/G': 0, 'G/A': 0, 'C/T': 0, 'T/C': 0,\n",
    "                    'A/C': 0, 'A/T': 0, 'G/C': 0, 'G/T': 0, 'C/A': 0, 'C/G': 0, 'T/A':0, 'T/G': 0} for CHROM in Chromosomes}\n",
    "# The genome-wide Ts and Tv counts\n",
    "S11_SNPs_Total = {'Ts': 0, 'Tv': 0, 'A/G': 0, 'G/A': 0, 'C/T': 0, 'T/C': 0,\n",
    "                  'A/C': 0, 'A/T': 0, 'G/C': 0, 'G/T': 0, 'C/A': 0, 'C/G': 0, 'T/A':0, 'T/G': 0}"
   ]
  },
  {
   "cell_type": "code",
   "execution_count": 6,
   "metadata": {
    "collapsed": true
   },
   "outputs": [],
   "source": [
    "# Calculate from SNPs the Ts and Tv of a Chromosome\n",
    "for CHROM in Chromosomes:\n",
    "    CHROMvcf = S11vcf.fetch(CHROM, 0)\n",
    "    for record in CHROMvcf:\n",
    "        if record.is_snp:\n",
    "            \n",
    "            # Get the reference nt\n",
    "            ref = record.alleles[0]\n",
    "            # Get the called nts\n",
    "            mat, pat = record.genotype(sample).gt_bases.split('/') # data is un-phased so separator will always be '/'\n",
    "            \n",
    "            # Note: all calls are homozygous in these files,\n",
    "            # so we only need to use either mat or pat call for counting\n",
    "            if record.is_transition:\n",
    "                S11_SNPs[CHROM]['Ts'] += 1\n",
    "                S11_SNPs_Total['Ts'] += 1\n",
    "            else:\n",
    "                S11_SNPs[CHROM]['Tv'] += 1\n",
    "                S11_SNPs_Total['Tv'] += 1\n",
    "            \n",
    "            # Now add count for specific substitution\n",
    "            S11_SNPs[CHROM]['/'.join([ref, mat])] += 1\n",
    "            S11_SNPs_Total['/'.join([ref, mat])] += 1"
   ]
  },
  {
   "cell_type": "code",
   "execution_count": 7,
   "metadata": {
    "collapsed": false
   },
   "outputs": [
    {
     "data": {
      "text/plain": [
       "{'A01': {'A/C': 2104,\n",
       "  'A/G': 5435,\n",
       "  'A/T': 2838,\n",
       "  'C/A': 2132,\n",
       "  'C/G': 1400,\n",
       "  'C/T': 5751,\n",
       "  'G/A': 5670,\n",
       "  'G/C': 1326,\n",
       "  'G/T': 2201,\n",
       "  'T/A': 2880,\n",
       "  'T/C': 5653,\n",
       "  'T/G': 2241,\n",
       "  'Ts': 22459,\n",
       "  'Tv': 17172},\n",
       " 'A02': {'A/C': 2759,\n",
       "  'A/G': 7573,\n",
       "  'A/T': 3787,\n",
       "  'C/A': 2849,\n",
       "  'C/G': 1823,\n",
       "  'C/T': 7901,\n",
       "  'G/A': 7861,\n",
       "  'G/C': 1908,\n",
       "  'G/T': 2826,\n",
       "  'T/A': 3834,\n",
       "  'T/C': 7843,\n",
       "  'T/G': 2854,\n",
       "  'Ts': 31132,\n",
       "  'Tv': 22686},\n",
       " 'A03': {'A/C': 3084,\n",
       "  'A/G': 8093,\n",
       "  'A/T': 4134,\n",
       "  'C/A': 3107,\n",
       "  'C/G': 2108,\n",
       "  'C/T': 8123,\n",
       "  'G/A': 8117,\n",
       "  'G/C': 2113,\n",
       "  'G/T': 3078,\n",
       "  'T/A': 4181,\n",
       "  'T/C': 8046,\n",
       "  'T/G': 3038,\n",
       "  'Ts': 32336,\n",
       "  'Tv': 24886},\n",
       " 'A04': {'A/C': 2842,\n",
       "  'A/G': 7476,\n",
       "  'A/T': 3816,\n",
       "  'C/A': 2914,\n",
       "  'C/G': 1729,\n",
       "  'C/T': 7659,\n",
       "  'G/A': 7402,\n",
       "  'G/C': 1778,\n",
       "  'G/T': 2819,\n",
       "  'T/A': 3750,\n",
       "  'T/C': 7355,\n",
       "  'T/G': 2780,\n",
       "  'Ts': 29827,\n",
       "  'Tv': 22493},\n",
       " 'A05': {'A/C': 2976,\n",
       "  'A/G': 7964,\n",
       "  'A/T': 3890,\n",
       "  'C/A': 2853,\n",
       "  'C/G': 1841,\n",
       "  'C/T': 7772,\n",
       "  'G/A': 7717,\n",
       "  'G/C': 1890,\n",
       "  'G/T': 2985,\n",
       "  'T/A': 3875,\n",
       "  'T/C': 7845,\n",
       "  'T/G': 3056,\n",
       "  'Ts': 31224,\n",
       "  'Tv': 23440},\n",
       " 'A06': {'A/C': 2822,\n",
       "  'A/G': 7335,\n",
       "  'A/T': 3584,\n",
       "  'C/A': 2783,\n",
       "  'C/G': 1790,\n",
       "  'C/T': 7500,\n",
       "  'G/A': 7422,\n",
       "  'G/C': 1818,\n",
       "  'G/T': 2739,\n",
       "  'T/A': 3611,\n",
       "  'T/C': 7463,\n",
       "  'T/G': 2748,\n",
       "  'Ts': 29666,\n",
       "  'Tv': 21949},\n",
       " 'A07': {'A/C': 2287,\n",
       "  'A/G': 6224,\n",
       "  'A/T': 3213,\n",
       "  'C/A': 2353,\n",
       "  'C/G': 1519,\n",
       "  'C/T': 6432,\n",
       "  'G/A': 6416,\n",
       "  'G/C': 1545,\n",
       "  'G/T': 2452,\n",
       "  'T/A': 3254,\n",
       "  'T/C': 6129,\n",
       "  'T/G': 2303,\n",
       "  'Ts': 25166,\n",
       "  'Tv': 18961},\n",
       " 'A08': {'A/C': 2129,\n",
       "  'A/G': 5600,\n",
       "  'A/T': 2984,\n",
       "  'C/A': 2418,\n",
       "  'C/G': 1465,\n",
       "  'C/T': 6084,\n",
       "  'G/A': 6086,\n",
       "  'G/C': 1410,\n",
       "  'G/T': 2306,\n",
       "  'T/A': 2897,\n",
       "  'T/C': 5578,\n",
       "  'T/G': 2251,\n",
       "  'Ts': 23307,\n",
       "  'Tv': 17901},\n",
       " 'A09': {'A/C': 4087,\n",
       "  'A/G': 11234,\n",
       "  'A/T': 5361,\n",
       "  'C/A': 4188,\n",
       "  'C/G': 2748,\n",
       "  'C/T': 11084,\n",
       "  'G/A': 11282,\n",
       "  'G/C': 2756,\n",
       "  'G/T': 4178,\n",
       "  'T/A': 5515,\n",
       "  'T/C': 10811,\n",
       "  'T/G': 4250,\n",
       "  'Ts': 44299,\n",
       "  'Tv': 33195},\n",
       " 'A10': {'A/C': 1231,\n",
       "  'A/G': 3409,\n",
       "  'A/T': 1759,\n",
       "  'C/A': 1282,\n",
       "  'C/G': 947,\n",
       "  'C/T': 3611,\n",
       "  'G/A': 3496,\n",
       "  'G/C': 880,\n",
       "  'G/T': 1309,\n",
       "  'T/A': 1752,\n",
       "  'T/C': 3472,\n",
       "  'T/G': 1337,\n",
       "  'Ts': 13960,\n",
       "  'Tv': 10525}}"
      ]
     },
     "execution_count": 7,
     "metadata": {},
     "output_type": "execute_result"
    }
   ],
   "source": [
    "S11_SNPs"
   ]
  },
  {
   "cell_type": "code",
   "execution_count": 8,
   "metadata": {
    "collapsed": false
   },
   "outputs": [
    {
     "data": {
      "text/plain": [
       "{'A/C': 26321,\n",
       " 'A/G': 70343,\n",
       " 'A/T': 35366,\n",
       " 'C/A': 26879,\n",
       " 'C/G': 17370,\n",
       " 'C/T': 71917,\n",
       " 'G/A': 71469,\n",
       " 'G/C': 17424,\n",
       " 'G/T': 26893,\n",
       " 'T/A': 35549,\n",
       " 'T/C': 70195,\n",
       " 'T/G': 26858,\n",
       " 'Ts': 283376,\n",
       " 'Tv': 213208}"
      ]
     },
     "execution_count": 8,
     "metadata": {},
     "output_type": "execute_result"
    }
   ],
   "source": [
    "S11_SNPs_Total"
   ]
  },
  {
   "cell_type": "code",
   "execution_count": 9,
   "metadata": {
    "collapsed": false
   },
   "outputs": [
    {
     "data": {
      "text/plain": [
       "1.329105849686691"
      ]
     },
     "execution_count": 9,
     "metadata": {},
     "output_type": "execute_result"
    }
   ],
   "source": [
    "283376/213208.0"
   ]
  },
  {
   "cell_type": "code",
   "execution_count": 10,
   "metadata": {
    "collapsed": false
   },
   "outputs": [
    {
     "data": {
      "text/plain": [
       "496584"
      ]
     },
     "execution_count": 10,
     "metadata": {},
     "output_type": "execute_result"
    }
   ],
   "source": [
    "283376 + 213208"
   ]
  },
  {
   "cell_type": "code",
   "execution_count": 11,
   "metadata": {
    "collapsed": true
   },
   "outputs": [],
   "source": [
    "# Open a VCF Reader to parse the file\n",
    "R09vcf = vcf.Reader(filename='R09-homozygous-variants.snpeff.unique.vcf.gz')"
   ]
  },
  {
   "cell_type": "code",
   "execution_count": 12,
   "metadata": {
    "collapsed": true
   },
   "outputs": [],
   "source": [
    "# get the sample name\n",
    "sample = R09vcf.samples[0]"
   ]
  },
  {
   "cell_type": "code",
   "execution_count": 13,
   "metadata": {
    "collapsed": true
   },
   "outputs": [],
   "source": [
    "# The per-chromosome Ts and Tv counts\n",
    "R09_SNPs = {CHROM: {'Ts': 0, 'Tv': 0, 'A/G': 0, 'G/A': 0, 'C/T': 0, 'T/C': 0,\n",
    "                    'A/C': 0, 'A/T': 0, 'G/C': 0, 'G/T': 0, 'C/A': 0, 'C/G': 0, 'T/A':0, 'T/G': 0} for CHROM in Chromosomes}\n",
    "# The genome-wide Ts and Tv counts\n",
    "R09_SNPs_Total = {'Ts': 0, 'Tv': 0, 'A/G': 0, 'G/A': 0, 'C/T': 0, 'T/C': 0,\n",
    "                  'A/C': 0, 'A/T': 0, 'G/C': 0, 'G/T': 0, 'C/A': 0, 'C/G': 0, 'T/A':0, 'T/G': 0}"
   ]
  },
  {
   "cell_type": "code",
   "execution_count": 14,
   "metadata": {
    "collapsed": true
   },
   "outputs": [],
   "source": [
    "# Calculate from SNPs the Ts and Tv of a Chromosome\n",
    "for CHROM in Chromosomes:\n",
    "    CHROMvcf = R09vcf.fetch(CHROM, 0)\n",
    "    for record in CHROMvcf:\n",
    "        if record.is_snp:\n",
    "            \n",
    "            # Get the reference nt\n",
    "            ref = record.alleles[0]\n",
    "            # Get the called nts\n",
    "            mat, pat = record.genotype(sample).gt_bases.split('/') # data is un-phased so separator will always be '/'\n",
    "            \n",
    "            # Note: all calls are homozygous in these files,\n",
    "            # so we only need to use either mat or pat call for counting\n",
    "            if record.is_transition:\n",
    "                R09_SNPs[CHROM]['Ts'] += 1\n",
    "                R09_SNPs_Total['Ts'] += 1\n",
    "            else:\n",
    "                R09_SNPs[CHROM]['Tv'] += 1\n",
    "                R09_SNPs_Total['Tv'] += 1\n",
    "            \n",
    "            # Now add count for specific substitution\n",
    "            R09_SNPs[CHROM]['/'.join([ref, mat])] += 1\n",
    "            R09_SNPs_Total['/'.join([ref, mat])] += 1"
   ]
  },
  {
   "cell_type": "code",
   "execution_count": 15,
   "metadata": {
    "collapsed": false
   },
   "outputs": [
    {
     "data": {
      "text/plain": [
       "{'A01': {'A/C': 2918,\n",
       "  'A/G': 7490,\n",
       "  'A/T': 3810,\n",
       "  'C/A': 3003,\n",
       "  'C/G': 1884,\n",
       "  'C/T': 7663,\n",
       "  'G/A': 7654,\n",
       "  'G/C': 1859,\n",
       "  'G/T': 2861,\n",
       "  'T/A': 3894,\n",
       "  'T/C': 7494,\n",
       "  'T/G': 2802,\n",
       "  'Ts': 30239,\n",
       "  'Tv': 23093},\n",
       " 'A02': {'A/C': 1537,\n",
       "  'A/G': 4021,\n",
       "  'A/T': 2123,\n",
       "  'C/A': 1562,\n",
       "  'C/G': 939,\n",
       "  'C/T': 4176,\n",
       "  'G/A': 4181,\n",
       "  'G/C': 906,\n",
       "  'G/T': 1569,\n",
       "  'T/A': 2084,\n",
       "  'T/C': 3972,\n",
       "  'T/G': 1490,\n",
       "  'Ts': 16317,\n",
       "  'Tv': 12243},\n",
       " 'A03': {'A/C': 2919,\n",
       "  'A/G': 7687,\n",
       "  'A/T': 3993,\n",
       "  'C/A': 2975,\n",
       "  'C/G': 2044,\n",
       "  'C/T': 7795,\n",
       "  'G/A': 7814,\n",
       "  'G/C': 2022,\n",
       "  'G/T': 3086,\n",
       "  'T/A': 3935,\n",
       "  'T/C': 7623,\n",
       "  'T/G': 2880,\n",
       "  'Ts': 30863,\n",
       "  'Tv': 23910},\n",
       " 'A04': {'A/C': 1664,\n",
       "  'A/G': 4482,\n",
       "  'A/T': 2422,\n",
       "  'C/A': 1771,\n",
       "  'C/G': 1107,\n",
       "  'C/T': 4597,\n",
       "  'G/A': 4774,\n",
       "  'G/C': 1140,\n",
       "  'G/T': 1802,\n",
       "  'T/A': 2412,\n",
       "  'T/C': 4478,\n",
       "  'T/G': 1667,\n",
       "  'Ts': 18297,\n",
       "  'Tv': 14019},\n",
       " 'A05': {'A/C': 2014,\n",
       "  'A/G': 5129,\n",
       "  'A/T': 2699,\n",
       "  'C/A': 2178,\n",
       "  'C/G': 1359,\n",
       "  'C/T': 5356,\n",
       "  'G/A': 5358,\n",
       "  'G/C': 1336,\n",
       "  'G/T': 2110,\n",
       "  'T/A': 2708,\n",
       "  'T/C': 5252,\n",
       "  'T/G': 1952,\n",
       "  'Ts': 21051,\n",
       "  'Tv': 16400},\n",
       " 'A06': {'A/C': 3387,\n",
       "  'A/G': 9030,\n",
       "  'A/T': 4678,\n",
       "  'C/A': 3492,\n",
       "  'C/G': 2405,\n",
       "  'C/T': 9568,\n",
       "  'G/A': 9416,\n",
       "  'G/C': 2354,\n",
       "  'G/T': 3463,\n",
       "  'T/A': 4630,\n",
       "  'T/C': 8858,\n",
       "  'T/G': 3340,\n",
       "  'Ts': 36824,\n",
       "  'Tv': 27797},\n",
       " 'A07': {'A/C': 2897,\n",
       "  'A/G': 7922,\n",
       "  'A/T': 3972,\n",
       "  'C/A': 3045,\n",
       "  'C/G': 1927,\n",
       "  'C/T': 8069,\n",
       "  'G/A': 7923,\n",
       "  'G/C': 1998,\n",
       "  'G/T': 3068,\n",
       "  'T/A': 3995,\n",
       "  'T/C': 8046,\n",
       "  'T/G': 3009,\n",
       "  'Ts': 31888,\n",
       "  'Tv': 23983},\n",
       " 'A08': {'A/C': 3996,\n",
       "  'A/G': 11035,\n",
       "  'A/T': 5579,\n",
       "  'C/A': 4152,\n",
       "  'C/G': 2677,\n",
       "  'C/T': 11348,\n",
       "  'G/A': 11340,\n",
       "  'G/C': 2655,\n",
       "  'G/T': 4170,\n",
       "  'T/A': 5525,\n",
       "  'T/C': 10656,\n",
       "  'T/G': 4194,\n",
       "  'Ts': 44305,\n",
       "  'Tv': 33022},\n",
       " 'A09': {'A/C': 3241,\n",
       "  'A/G': 8292,\n",
       "  'A/T': 4189,\n",
       "  'C/A': 3205,\n",
       "  'C/G': 2099,\n",
       "  'C/T': 8331,\n",
       "  'G/A': 8360,\n",
       "  'G/C': 1974,\n",
       "  'G/T': 3186,\n",
       "  'T/A': 4186,\n",
       "  'T/C': 8261,\n",
       "  'T/G': 3096,\n",
       "  'Ts': 33180,\n",
       "  'Tv': 25240},\n",
       " 'A10': {'A/C': 1160,\n",
       "  'A/G': 3098,\n",
       "  'A/T': 1569,\n",
       "  'C/A': 1157,\n",
       "  'C/G': 784,\n",
       "  'C/T': 3138,\n",
       "  'G/A': 3285,\n",
       "  'G/C': 805,\n",
       "  'G/T': 1233,\n",
       "  'T/A': 1605,\n",
       "  'T/C': 3090,\n",
       "  'T/G': 1241,\n",
       "  'Ts': 12587,\n",
       "  'Tv': 9578}}"
      ]
     },
     "execution_count": 15,
     "metadata": {},
     "output_type": "execute_result"
    }
   ],
   "source": [
    "R09_SNPs"
   ]
  },
  {
   "cell_type": "code",
   "execution_count": 16,
   "metadata": {
    "collapsed": false
   },
   "outputs": [
    {
     "data": {
      "text/plain": [
       "{'A/C': 25733,\n",
       " 'A/G': 68186,\n",
       " 'A/T': 35034,\n",
       " 'C/A': 26540,\n",
       " 'C/G': 17225,\n",
       " 'C/T': 70041,\n",
       " 'G/A': 70105,\n",
       " 'G/C': 17049,\n",
       " 'G/T': 26548,\n",
       " 'T/A': 34974,\n",
       " 'T/C': 67730,\n",
       " 'T/G': 25671,\n",
       " 'Ts': 275551,\n",
       " 'Tv': 209285}"
      ]
     },
     "execution_count": 16,
     "metadata": {},
     "output_type": "execute_result"
    }
   ],
   "source": [
    "R09_SNPs_Total"
   ]
  },
  {
   "cell_type": "code",
   "execution_count": 17,
   "metadata": {
    "collapsed": false
   },
   "outputs": [
    {
     "data": {
      "text/plain": [
       "1.3166304321857754"
      ]
     },
     "execution_count": 17,
     "metadata": {},
     "output_type": "execute_result"
    }
   ],
   "source": [
    "275551/209285.0"
   ]
  },
  {
   "cell_type": "code",
   "execution_count": 18,
   "metadata": {
    "collapsed": false
   },
   "outputs": [
    {
     "data": {
      "text/plain": [
       "484836"
      ]
     },
     "execution_count": 18,
     "metadata": {},
     "output_type": "execute_result"
    }
   ],
   "source": [
    "275551 + 209285"
   ]
  },
  {
   "cell_type": "code",
   "execution_count": null,
   "metadata": {
    "collapsed": true
   },
   "outputs": [],
   "source": []
  }
 ],
 "metadata": {
  "kernelspec": {
   "display_name": "Python 2",
   "language": "python",
   "name": "python2"
  },
  "language_info": {
   "codemirror_mode": {
    "name": "ipython",
    "version": 2
   },
   "file_extension": ".py",
   "mimetype": "text/x-python",
   "name": "python",
   "nbconvert_exporter": "python",
   "pygments_lexer": "ipython2",
   "version": "2.7.13"
  }
 },
 "nbformat": 4,
 "nbformat_minor": 2
}
